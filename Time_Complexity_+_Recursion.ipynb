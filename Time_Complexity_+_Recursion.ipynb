{
 "cells": [
  {
   "cell_type": "markdown",
   "id": "e7b02f2b-a6e9-4c37-b35a-2951fe357f12",
   "metadata": {},
   "source": [
    "Find time complexity of below code blocks :"
   ]
  },
  {
   "cell_type": "markdown",
   "id": "f9f479f8-1569-45a3-b886-5b72577559bf",
   "metadata": {},
   "source": [
    "Problem 1 :\n",
    "def quicksort(arr):\n",
    "if len(arr) <= 1:\n",
    "return arr\n",
    "pivot = arr[len(arr) // 2]\n",
    "left = [x for x in arr if x < pivot]\n",
    "middle = [x for x in arr if x == pivot]\n",
    "right = [x for x in arr if x > pivot]\n",
    "return quicksort(left) + middle + quicksort(right)"
   ]
  },
  {
   "cell_type": "markdown",
   "id": "45e23491-b64b-481d-8190-2b3cbf34a6df",
   "metadata": {},
   "source": [
    "Time Complexity: \n",
    "O(nlogn)"
   ]
  },
  {
   "cell_type": "markdown",
   "id": "0c10182f-b946-49a8-b4e9-590ce814d1a4",
   "metadata": {},
   "source": [
    "2 .def nested_loop_example(matrix):\n",
    "    rows, cols = len(matrix), len(matrix[0])\n",
    "    total = 0\n",
    "    for i in range(rows):\n",
    "        for j in range(cols):\n",
    "            total += matrix[i][j]\n",
    "    return total\n"
   ]
  },
  {
   "cell_type": "markdown",
   "id": "9d35d7a1-e36a-4e3f-ab95-29eec94707c2",
   "metadata": {},
   "source": [
    "Time Complexity: \n",
    "O(m×n), where \n",
    "m is the number of rows and \n",
    "n is the number of columns in the matrix."
   ]
  },
  {
   "cell_type": "markdown",
   "id": "42ebad2c-65f6-4f15-89d0-a1456cd99339",
   "metadata": {},
   "source": [
    "3. def example_function(arr):\n",
    "    result = 0\n",
    "    for element in arr:\n",
    "        result += element\n",
    "    return result\n"
   ]
  },
  {
   "cell_type": "markdown",
   "id": "44ba68bf-9125-43a4-8013-910055be601e",
   "metadata": {},
   "source": [
    "Time Complexity: \n",
    "O(n), where \n",
    "n is the length of the array."
   ]
  },
  {
   "cell_type": "code",
   "execution_count": null,
   "id": "025265f3-43ee-45d3-b4f4-34607564e21c",
   "metadata": {},
   "outputs": [],
   "source": []
  },
  {
   "cell_type": "code",
   "execution_count": null,
   "id": "628f24c4-e0f7-4526-9e98-5a7189e31105",
   "metadata": {},
   "outputs": [],
   "source": []
  },
  {
   "cell_type": "code",
   "execution_count": null,
   "id": "2ac11a2f-a2d6-4f17-88f5-5d2ba56ae925",
   "metadata": {},
   "outputs": [],
   "source": []
  },
  {
   "cell_type": "code",
   "execution_count": null,
   "id": "1f68c36f-8b38-4dfb-b589-9b185ca52e91",
   "metadata": {},
   "outputs": [],
   "source": []
  },
  {
   "cell_type": "code",
   "execution_count": null,
   "id": "f25d369d-d4d4-4431-8099-fde795686b9f",
   "metadata": {},
   "outputs": [],
   "source": []
  },
  {
   "cell_type": "markdown",
   "id": "2884d0e8-eed4-4ad8-8318-c22968b4e292",
   "metadata": {},
   "source": [
    "Problem 6 : Sum of Digits\n",
    "Write a recursive function to calculate the sum of digits of a given positive integer.\n",
    "sum_of_digits(123) -> 6"
   ]
  },
  {
   "cell_type": "code",
   "execution_count": 13,
   "id": "1dd476fd-7296-4048-b4bb-eae3b2387ff5",
   "metadata": {},
   "outputs": [
    {
     "name": "stdout",
     "output_type": "stream",
     "text": [
      "6\n"
     ]
    }
   ],
   "source": [
    "def sum_of_digits(n):\n",
    "    # Base case: when n becomes a single-digit number\n",
    "    if n < 10:\n",
    "        return n\n",
    "    else:\n",
    "        # Recursive case: sum the last digit and call the function with the remaining digits\n",
    "        return n % 10 + sum_of_digits(n // 10)\n",
    "\n",
    "number = 123\n",
    "result = sum_of_digits(number)\n",
    "print(result)  \n"
   ]
  },
  {
   "cell_type": "markdown",
   "id": "fd16b94e-4e97-4b27-9d6c-636e88c8cf79",
   "metadata": {},
   "source": [
    "Problem 7: Fibonacci Series\n",
    "Write a recursive function to generate the first n numbers of the Fibonacci series.\n",
    "fibonacci_series(6) -> [0, 1, 1, 2, 3, 5]"
   ]
  },
  {
   "cell_type": "code",
   "execution_count": 12,
   "id": "9f8acd01-7a1e-4d3a-b3eb-0b3436855170",
   "metadata": {},
   "outputs": [
    {
     "name": "stdout",
     "output_type": "stream",
     "text": [
      "[0, 1, 1, 2, 3, 5]\n"
     ]
    }
   ],
   "source": [
    "def fibonacci_series(n):\n",
    "    def fibonacci_recursive(n):\n",
    "        if n <= 0:\n",
    "            return []\n",
    "        elif n == 1:\n",
    "            return [0]\n",
    "        elif n == 2:\n",
    "            return [0, 1]\n",
    "\n",
    "        prev_series = fibonacci_recursive(n - 1)\n",
    "        return prev_series + [prev_series[-1] + prev_series[-2]]\n",
    "\n",
    "    return fibonacci_recursive(n)\n",
    "\n",
    "n = 6\n",
    "result = fibonacci_series(n)\n",
    "print(result) \n"
   ]
  },
  {
   "cell_type": "markdown",
   "id": "f5714ad8-8b8d-45de-afe6-4eb7466439ea",
   "metadata": {},
   "source": [
    "Problem 8 : Subset Sum\n",
    "Given a set of positive integers and a target sum, write a recursive function to determine if there exists a subset\n",
    "of the integers that adds up to the target sum.\n",
    "subset_sum([3, 34, 4, 12, 5, 2], 9) -> True"
   ]
  },
  {
   "cell_type": "code",
   "execution_count": 11,
   "id": "63859e44-f594-4642-a617-c7e950f539de",
   "metadata": {},
   "outputs": [
    {
     "name": "stdout",
     "output_type": "stream",
     "text": [
      "True\n"
     ]
    }
   ],
   "source": [
    "def subset_sum(nums, target):\n",
    "    def is_subset_sum(nums, n, target):\n",
    "        # Base cases\n",
    "        if target == 0:\n",
    "            return True\n",
    "        if n == 0 and target != 0:\n",
    "            return False\n",
    "        if nums[n - 1] > target:\n",
    "            return is_subset_sum(nums, n - 1, target)\n",
    "\n",
    "        return is_subset_sum(nums, n - 1, target) or is_subset_sum(nums, n - 1, target - nums[n - 1])\n",
    "\n",
    "    return is_subset_sum(nums, len(nums), target)\n",
    "\n",
    "nums = [3, 34, 4, 12, 5, 2]\n",
    "target_sum = 9\n",
    "result = subset_sum(nums, target_sum)\n",
    "print(result) \n"
   ]
  },
  {
   "cell_type": "markdown",
   "id": "c27882d7-b74d-430d-aa8c-acd01b4a760f",
   "metadata": {},
   "source": [
    "Problem 9: Word Break\n",
    "Given a non-empty string and a dictionary of words, write a recursive function to determine if the string can be\n",
    "segmented into a space-separated sequence of dictionary words.\n",
    "word_break( leetcode , [ leet , code ]) -> True"
   ]
  },
  {
   "cell_type": "code",
   "execution_count": 10,
   "id": "20d241ae-77e5-478f-99e1-6dafec2599c1",
   "metadata": {},
   "outputs": [
    {
     "name": "stdout",
     "output_type": "stream",
     "text": [
      "True\n",
      "False\n"
     ]
    }
   ],
   "source": [
    "def wordBreak(wordList , word):\n",
    "  if word == \"\":\n",
    "    return True\n",
    "  else :\n",
    "    wordLen = len(word)\n",
    "    for i in range(1, wordLen+1):\n",
    "      if word[:i] in wordList and wordBreak(wordList, word[i:]):\n",
    "        return True\n",
    "    return False\n",
    "print(wordBreak([\"leet\",\"code\"], \"leetcode\"))\n",
    "print(wordBreak([\"I\",\"am\", \"sam\", \"sung\", \"love\", \"harshini\"], \"harshinilovessamsungiam\"))"
   ]
  },
  {
   "cell_type": "markdown",
   "id": "08cf58eb-e715-48bb-9f30-147c381f70ba",
   "metadata": {},
   "source": [
    "Problem 10 : N-Queens\n",
    "Implement a recursive function to solve the N Queens problem, where you have to place N queens on an N×N\n",
    "chessboard in such a way that no two queens threaten each other.\n",
    "n_queens(4)\n",
    "[\n",
    "[\".Q..\",\n",
    "\"...Q\",\n",
    "\"Q...\",\n",
    "\"..Q.\"],\n",
    "[\"..Q.\",\n",
    "\"Q...\",\n",
    "\"...Q\",\n",
    "\".Q..\"]\n",
    "]"
   ]
  },
  {
   "cell_type": "code",
   "execution_count": 6,
   "id": "113c3d24-fdd9-4e36-ae91-a4bb2ca74b06",
   "metadata": {},
   "outputs": [
    {
     "name": "stdout",
     "output_type": "stream",
     "text": [
      "Q . . . . . . . \n",
      ". . . . . . Q . \n",
      ". Q . . . . . . \n",
      ". . . . . Q . . \n",
      ". . . . . . . Q \n",
      ". . Q . . . . . \n",
      ". . . . Q . . . \n",
      ". . . Q . . . . \n"
     ]
    }
   ],
   "source": [
    "def isSafeToPlaceQueen(board , row , col , n):\n",
    "\n",
    "  # Check in the left side\n",
    "  for i in range(col):\n",
    "    if board[row][i]==1 :\n",
    "          return False\n",
    "\n",
    "  #Check in the upper left diagonal\n",
    "  for i, j in zip(range(row,-1,-1),range(col,-1,-1)):\n",
    "    if board[i][j] ==1:\n",
    "          return False\n",
    "\n",
    "  #Check in the lower left diagonal\n",
    "  for i,j in zip(range(row,n,1 ), range(col, -1,-1)):\n",
    "    if board[i][j]==1:\n",
    "          return False\n",
    "    return True\n",
    "\n",
    "\n",
    "def solveNQ(board,n):\n",
    "\n",
    "  if not solveNQUtil(board,0,n):\n",
    "    print(\"Solution doesn't exist\")\n",
    "    return\n",
    "\n",
    "  printBoard(board,n)\n",
    "\n",
    "# Should return True if we are able to place all the queens\n",
    "def solveNQUtil(board , col , n):\n",
    "  if(col >=n): #Base condition\n",
    "    return True  # Means we have bee able to put queens in all the columns\n",
    "\n",
    "  # Check for all the rows\n",
    "  for row in range(n) :\n",
    "    if isSafeToPlaceQueen(board,row,col, n) :\n",
    "      board[row][col]= 1 #Set the queen\n",
    "\n",
    "      #Recursively try for the next columns\n",
    "      if solveNQUtil(board,col+1,n):\n",
    "        return True\n",
    "      #Back Tracking\n",
    "      board[row][col]= 0 # Queen can't be set here\n",
    "\n",
    "  return False #Won't be able to place the queen\n",
    "\n",
    "\n",
    "def printBoard(board,n):\n",
    "  for i in range(n):\n",
    "    for j in range(n):\n",
    "      if board[i][j]==1 :\n",
    "        print(\"Q\",end=\" \")\n",
    "      else :\n",
    "        print(\".\",end=\" \")\n",
    "    print()\n",
    "    \n",
    "board = [[0,0,0,0],\n",
    "         [0,0,0,0],\n",
    "         [0,0,0,0],\n",
    "         [0,0,0,0]\n",
    "         ]\n",
    "board8 = [[0,0,0,0,0,0,0,0],\n",
    "          [0,0,0,0,0,0,0,0],\n",
    "          [0,0,0,0,0,0,0,0],\n",
    "          [0,0,0,0,0,0,0,0],\n",
    "          [0,0,0,0,0,0,0,0],\n",
    "          [0,0,0,0,0,0,0,0],\n",
    "          [0,0,0,0,0,0,0,0],\n",
    "          [0,0,0,0,0,0,0,0]\n",
    "          ]\n",
    "solveNQ(board8,8)"
   ]
  },
  {
   "cell_type": "code",
   "execution_count": null,
   "id": "0a206358-dd7d-44a3-87e7-b7f1855eafcf",
   "metadata": {},
   "outputs": [],
   "source": []
  }
 ],
 "metadata": {
  "kernelspec": {
   "display_name": "Python 3 (ipykernel)",
   "language": "python",
   "name": "python3"
  },
  "language_info": {
   "codemirror_mode": {
    "name": "ipython",
    "version": 3
   },
   "file_extension": ".py",
   "mimetype": "text/x-python",
   "name": "python",
   "nbconvert_exporter": "python",
   "pygments_lexer": "ipython3",
   "version": "3.10.8"
  }
 },
 "nbformat": 4,
 "nbformat_minor": 5
}
